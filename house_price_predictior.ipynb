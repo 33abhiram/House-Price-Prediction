{
  "cells": [
    {
      "cell_type": "markdown",
      "metadata": {
        "id": "UGmYioM_hL4e"
      },
      "source": [
        "# House Price Prediction using Linear Regression"
      ]
    },
    {
      "cell_type": "markdown",
      "metadata": {},
      "source": [
        "## Part 1: Feature Engineering"
      ]
    },
    {
      "cell_type": "code",
      "execution_count": 3,
      "metadata": {
        "colab": {
          "base_uri": "https://localhost:8080/",
          "height": 322
        },
        "id": "gLR7E_vqg5Lj",
        "outputId": "f3c6fb4b-8ed0-4340-94f2-786168b9e52a"
      },
      "outputs": [
        {
          "name": "stdout",
          "output_type": "stream",
          "text": [
            "LotShape 1-hot shape = (1460, 4)\n",
            "LotConfig 1-hot shape = (1460, 5)\n",
            "Neighborhood 1-hot shape = (1460, 25)\n",
            "Shape of data after concatenating all 1-hot encodings = (1460, 42)\n",
            "Shape of data after droping original categorical columns = (1460, 39)\n"
          ]
        },
        {
          "data": {
            "text/html": [
              "\n",
              "  <div id=\"df-89a1a628-4c78-4bf3-83fc-ce2894b7d954\" class=\"colab-df-container\">\n",
              "    <div>\n",
              "<style scoped>\n",
              "    .dataframe tbody tr th:only-of-type {\n",
              "        vertical-align: middle;\n",
              "    }\n",
              "\n",
              "    .dataframe tbody tr th {\n",
              "        vertical-align: top;\n",
              "    }\n",
              "\n",
              "    .dataframe thead th {\n",
              "        text-align: right;\n",
              "    }\n",
              "</style>\n",
              "<table border=\"1\" class=\"dataframe\">\n",
              "  <thead>\n",
              "    <tr style=\"text-align: right;\">\n",
              "      <th></th>\n",
              "      <th>OverallQual</th>\n",
              "      <th>OverallCond</th>\n",
              "      <th>YearRemodAdd</th>\n",
              "      <th>GrLivArea</th>\n",
              "      <th>MoSold</th>\n",
              "      <th>0</th>\n",
              "      <th>1</th>\n",
              "      <th>2</th>\n",
              "      <th>3</th>\n",
              "      <th>0</th>\n",
              "      <th>...</th>\n",
              "      <th>15</th>\n",
              "      <th>16</th>\n",
              "      <th>17</th>\n",
              "      <th>18</th>\n",
              "      <th>19</th>\n",
              "      <th>20</th>\n",
              "      <th>21</th>\n",
              "      <th>22</th>\n",
              "      <th>23</th>\n",
              "      <th>24</th>\n",
              "    </tr>\n",
              "  </thead>\n",
              "  <tbody>\n",
              "    <tr>\n",
              "      <th>0</th>\n",
              "      <td>0.666667</td>\n",
              "      <td>0.500</td>\n",
              "      <td>0.883333</td>\n",
              "      <td>0.259231</td>\n",
              "      <td>0.090909</td>\n",
              "      <td>0.0</td>\n",
              "      <td>0.0</td>\n",
              "      <td>0.0</td>\n",
              "      <td>1.0</td>\n",
              "      <td>0.0</td>\n",
              "      <td>...</td>\n",
              "      <td>0.0</td>\n",
              "      <td>0.0</td>\n",
              "      <td>0.0</td>\n",
              "      <td>0.0</td>\n",
              "      <td>0.0</td>\n",
              "      <td>0.0</td>\n",
              "      <td>0.0</td>\n",
              "      <td>0.0</td>\n",
              "      <td>0.0</td>\n",
              "      <td>0.0</td>\n",
              "    </tr>\n",
              "    <tr>\n",
              "      <th>1</th>\n",
              "      <td>0.555556</td>\n",
              "      <td>0.875</td>\n",
              "      <td>0.433333</td>\n",
              "      <td>0.174830</td>\n",
              "      <td>0.363636</td>\n",
              "      <td>0.0</td>\n",
              "      <td>0.0</td>\n",
              "      <td>0.0</td>\n",
              "      <td>1.0</td>\n",
              "      <td>0.0</td>\n",
              "      <td>...</td>\n",
              "      <td>0.0</td>\n",
              "      <td>0.0</td>\n",
              "      <td>0.0</td>\n",
              "      <td>0.0</td>\n",
              "      <td>0.0</td>\n",
              "      <td>0.0</td>\n",
              "      <td>0.0</td>\n",
              "      <td>0.0</td>\n",
              "      <td>0.0</td>\n",
              "      <td>1.0</td>\n",
              "    </tr>\n",
              "    <tr>\n",
              "      <th>2</th>\n",
              "      <td>0.666667</td>\n",
              "      <td>0.500</td>\n",
              "      <td>0.866667</td>\n",
              "      <td>0.273549</td>\n",
              "      <td>0.727273</td>\n",
              "      <td>1.0</td>\n",
              "      <td>0.0</td>\n",
              "      <td>0.0</td>\n",
              "      <td>0.0</td>\n",
              "      <td>0.0</td>\n",
              "      <td>...</td>\n",
              "      <td>0.0</td>\n",
              "      <td>0.0</td>\n",
              "      <td>0.0</td>\n",
              "      <td>0.0</td>\n",
              "      <td>0.0</td>\n",
              "      <td>0.0</td>\n",
              "      <td>0.0</td>\n",
              "      <td>0.0</td>\n",
              "      <td>0.0</td>\n",
              "      <td>0.0</td>\n",
              "    </tr>\n",
              "    <tr>\n",
              "      <th>3</th>\n",
              "      <td>0.666667</td>\n",
              "      <td>0.500</td>\n",
              "      <td>0.333333</td>\n",
              "      <td>0.260550</td>\n",
              "      <td>0.090909</td>\n",
              "      <td>1.0</td>\n",
              "      <td>0.0</td>\n",
              "      <td>0.0</td>\n",
              "      <td>0.0</td>\n",
              "      <td>1.0</td>\n",
              "      <td>...</td>\n",
              "      <td>0.0</td>\n",
              "      <td>0.0</td>\n",
              "      <td>0.0</td>\n",
              "      <td>0.0</td>\n",
              "      <td>0.0</td>\n",
              "      <td>0.0</td>\n",
              "      <td>0.0</td>\n",
              "      <td>0.0</td>\n",
              "      <td>0.0</td>\n",
              "      <td>0.0</td>\n",
              "    </tr>\n",
              "    <tr>\n",
              "      <th>4</th>\n",
              "      <td>0.777778</td>\n",
              "      <td>0.500</td>\n",
              "      <td>0.833333</td>\n",
              "      <td>0.351168</td>\n",
              "      <td>1.000000</td>\n",
              "      <td>1.0</td>\n",
              "      <td>0.0</td>\n",
              "      <td>0.0</td>\n",
              "      <td>0.0</td>\n",
              "      <td>0.0</td>\n",
              "      <td>...</td>\n",
              "      <td>1.0</td>\n",
              "      <td>0.0</td>\n",
              "      <td>0.0</td>\n",
              "      <td>0.0</td>\n",
              "      <td>0.0</td>\n",
              "      <td>0.0</td>\n",
              "      <td>0.0</td>\n",
              "      <td>0.0</td>\n",
              "      <td>0.0</td>\n",
              "      <td>0.0</td>\n",
              "    </tr>\n",
              "  </tbody>\n",
              "</table>\n",
              "<p>5 rows × 39 columns</p>\n",
              "</div>\n",
              "    <div class=\"colab-df-buttons\">\n",
              "\n",
              "  <div class=\"colab-df-container\">\n",
              "    <button class=\"colab-df-convert\" onclick=\"convertToInteractive('df-89a1a628-4c78-4bf3-83fc-ce2894b7d954')\"\n",
              "            title=\"Convert this dataframe to an interactive table.\"\n",
              "            style=\"display:none;\">\n",
              "\n",
              "  <svg xmlns=\"http://www.w3.org/2000/svg\" height=\"24px\" viewBox=\"0 -960 960 960\">\n",
              "    <path d=\"M120-120v-720h720v720H120Zm60-500h600v-160H180v160Zm220 220h160v-160H400v160Zm0 220h160v-160H400v160ZM180-400h160v-160H180v160Zm440 0h160v-160H620v160ZM180-180h160v-160H180v160Zm440 0h160v-160H620v160Z\"/>\n",
              "  </svg>\n",
              "    </button>\n",
              "\n",
              "  <style>\n",
              "    .colab-df-container {\n",
              "      display:flex;\n",
              "      gap: 12px;\n",
              "    }\n",
              "\n",
              "    .colab-df-convert {\n",
              "      background-color: #E8F0FE;\n",
              "      border: none;\n",
              "      border-radius: 50%;\n",
              "      cursor: pointer;\n",
              "      display: none;\n",
              "      fill: #1967D2;\n",
              "      height: 32px;\n",
              "      padding: 0 0 0 0;\n",
              "      width: 32px;\n",
              "    }\n",
              "\n",
              "    .colab-df-convert:hover {\n",
              "      background-color: #E2EBFA;\n",
              "      box-shadow: 0px 1px 2px rgba(60, 64, 67, 0.3), 0px 1px 3px 1px rgba(60, 64, 67, 0.15);\n",
              "      fill: #174EA6;\n",
              "    }\n",
              "\n",
              "    .colab-df-buttons div {\n",
              "      margin-bottom: 4px;\n",
              "    }\n",
              "\n",
              "    [theme=dark] .colab-df-convert {\n",
              "      background-color: #3B4455;\n",
              "      fill: #D2E3FC;\n",
              "    }\n",
              "\n",
              "    [theme=dark] .colab-df-convert:hover {\n",
              "      background-color: #434B5C;\n",
              "      box-shadow: 0px 1px 3px 1px rgba(0, 0, 0, 0.15);\n",
              "      filter: drop-shadow(0px 1px 2px rgba(0, 0, 0, 0.3));\n",
              "      fill: #FFFFFF;\n",
              "    }\n",
              "  </style>\n",
              "\n",
              "    <script>\n",
              "      const buttonEl =\n",
              "        document.querySelector('#df-89a1a628-4c78-4bf3-83fc-ce2894b7d954 button.colab-df-convert');\n",
              "      buttonEl.style.display =\n",
              "        google.colab.kernel.accessAllowed ? 'block' : 'none';\n",
              "\n",
              "      async function convertToInteractive(key) {\n",
              "        const element = document.querySelector('#df-89a1a628-4c78-4bf3-83fc-ce2894b7d954');\n",
              "        const dataTable =\n",
              "          await google.colab.kernel.invokeFunction('convertToInteractive',\n",
              "                                                    [key], {});\n",
              "        if (!dataTable) return;\n",
              "\n",
              "        const docLinkHtml = 'Like what you see? Visit the ' +\n",
              "          '<a target=\"_blank\" href=https://colab.research.google.com/notebooks/data_table.ipynb>data table notebook</a>'\n",
              "          + ' to learn more about interactive tables.';\n",
              "        element.innerHTML = '';\n",
              "        dataTable['output_type'] = 'display_data';\n",
              "        await google.colab.output.renderOutput(dataTable, element);\n",
              "        const docLink = document.createElement('div');\n",
              "        docLink.innerHTML = docLinkHtml;\n",
              "        element.appendChild(docLink);\n",
              "      }\n",
              "    </script>\n",
              "  </div>\n",
              "\n",
              "\n",
              "<div id=\"df-751b4791-d24e-4ca4-9bfd-bc02e56efa7c\">\n",
              "  <button class=\"colab-df-quickchart\" onclick=\"quickchart('df-751b4791-d24e-4ca4-9bfd-bc02e56efa7c')\"\n",
              "            title=\"Suggest charts\"\n",
              "            style=\"display:none;\">\n",
              "\n",
              "<svg xmlns=\"http://www.w3.org/2000/svg\" height=\"24px\"viewBox=\"0 0 24 24\"\n",
              "     width=\"24px\">\n",
              "    <g>\n",
              "        <path d=\"M19 3H5c-1.1 0-2 .9-2 2v14c0 1.1.9 2 2 2h14c1.1 0 2-.9 2-2V5c0-1.1-.9-2-2-2zM9 17H7v-7h2v7zm4 0h-2V7h2v10zm4 0h-2v-4h2v4z\"/>\n",
              "    </g>\n",
              "</svg>\n",
              "  </button>\n",
              "\n",
              "<style>\n",
              "  .colab-df-quickchart {\n",
              "      --bg-color: #E8F0FE;\n",
              "      --fill-color: #1967D2;\n",
              "      --hover-bg-color: #E2EBFA;\n",
              "      --hover-fill-color: #174EA6;\n",
              "      --disabled-fill-color: #AAA;\n",
              "      --disabled-bg-color: #DDD;\n",
              "  }\n",
              "\n",
              "  [theme=dark] .colab-df-quickchart {\n",
              "      --bg-color: #3B4455;\n",
              "      --fill-color: #D2E3FC;\n",
              "      --hover-bg-color: #434B5C;\n",
              "      --hover-fill-color: #FFFFFF;\n",
              "      --disabled-bg-color: #3B4455;\n",
              "      --disabled-fill-color: #666;\n",
              "  }\n",
              "\n",
              "  .colab-df-quickchart {\n",
              "    background-color: var(--bg-color);\n",
              "    border: none;\n",
              "    border-radius: 50%;\n",
              "    cursor: pointer;\n",
              "    display: none;\n",
              "    fill: var(--fill-color);\n",
              "    height: 32px;\n",
              "    padding: 0;\n",
              "    width: 32px;\n",
              "  }\n",
              "\n",
              "  .colab-df-quickchart:hover {\n",
              "    background-color: var(--hover-bg-color);\n",
              "    box-shadow: 0 1px 2px rgba(60, 64, 67, 0.3), 0 1px 3px 1px rgba(60, 64, 67, 0.15);\n",
              "    fill: var(--button-hover-fill-color);\n",
              "  }\n",
              "\n",
              "  .colab-df-quickchart-complete:disabled,\n",
              "  .colab-df-quickchart-complete:disabled:hover {\n",
              "    background-color: var(--disabled-bg-color);\n",
              "    fill: var(--disabled-fill-color);\n",
              "    box-shadow: none;\n",
              "  }\n",
              "\n",
              "  .colab-df-spinner {\n",
              "    border: 2px solid var(--fill-color);\n",
              "    border-color: transparent;\n",
              "    border-bottom-color: var(--fill-color);\n",
              "    animation:\n",
              "      spin 1s steps(1) infinite;\n",
              "  }\n",
              "\n",
              "  @keyframes spin {\n",
              "    0% {\n",
              "      border-color: transparent;\n",
              "      border-bottom-color: var(--fill-color);\n",
              "      border-left-color: var(--fill-color);\n",
              "    }\n",
              "    20% {\n",
              "      border-color: transparent;\n",
              "      border-left-color: var(--fill-color);\n",
              "      border-top-color: var(--fill-color);\n",
              "    }\n",
              "    30% {\n",
              "      border-color: transparent;\n",
              "      border-left-color: var(--fill-color);\n",
              "      border-top-color: var(--fill-color);\n",
              "      border-right-color: var(--fill-color);\n",
              "    }\n",
              "    40% {\n",
              "      border-color: transparent;\n",
              "      border-right-color: var(--fill-color);\n",
              "      border-top-color: var(--fill-color);\n",
              "    }\n",
              "    60% {\n",
              "      border-color: transparent;\n",
              "      border-right-color: var(--fill-color);\n",
              "    }\n",
              "    80% {\n",
              "      border-color: transparent;\n",
              "      border-right-color: var(--fill-color);\n",
              "      border-bottom-color: var(--fill-color);\n",
              "    }\n",
              "    90% {\n",
              "      border-color: transparent;\n",
              "      border-bottom-color: var(--fill-color);\n",
              "    }\n",
              "  }\n",
              "</style>\n",
              "\n",
              "  <script>\n",
              "    async function quickchart(key) {\n",
              "      const quickchartButtonEl =\n",
              "        document.querySelector('#' + key + ' button');\n",
              "      quickchartButtonEl.disabled = true;  // To prevent multiple clicks.\n",
              "      quickchartButtonEl.classList.add('colab-df-spinner');\n",
              "      try {\n",
              "        const charts = await google.colab.kernel.invokeFunction(\n",
              "            'suggestCharts', [key], {});\n",
              "      } catch (error) {\n",
              "        console.error('Error during call to suggestCharts:', error);\n",
              "      }\n",
              "      quickchartButtonEl.classList.remove('colab-df-spinner');\n",
              "      quickchartButtonEl.classList.add('colab-df-quickchart-complete');\n",
              "    }\n",
              "    (() => {\n",
              "      let quickchartButtonEl =\n",
              "        document.querySelector('#df-751b4791-d24e-4ca4-9bfd-bc02e56efa7c button');\n",
              "      quickchartButtonEl.style.display =\n",
              "        google.colab.kernel.accessAllowed ? 'block' : 'none';\n",
              "    })();\n",
              "  </script>\n",
              "</div>\n",
              "    </div>\n",
              "  </div>\n"
            ],
            "text/plain": [
              "   OverallQual  OverallCond  YearRemodAdd  GrLivArea    MoSold    0    1    2  \\\n",
              "0     0.666667        0.500      0.883333   0.259231  0.090909  0.0  0.0  0.0   \n",
              "1     0.555556        0.875      0.433333   0.174830  0.363636  0.0  0.0  0.0   \n",
              "2     0.666667        0.500      0.866667   0.273549  0.727273  1.0  0.0  0.0   \n",
              "3     0.666667        0.500      0.333333   0.260550  0.090909  1.0  0.0  0.0   \n",
              "4     0.777778        0.500      0.833333   0.351168  1.000000  1.0  0.0  0.0   \n",
              "\n",
              "     3    0  ...   15   16   17   18   19   20   21   22   23   24  \n",
              "0  1.0  0.0  ...  0.0  0.0  0.0  0.0  0.0  0.0  0.0  0.0  0.0  0.0  \n",
              "1  1.0  0.0  ...  0.0  0.0  0.0  0.0  0.0  0.0  0.0  0.0  0.0  1.0  \n",
              "2  0.0  0.0  ...  0.0  0.0  0.0  0.0  0.0  0.0  0.0  0.0  0.0  0.0  \n",
              "3  0.0  1.0  ...  0.0  0.0  0.0  0.0  0.0  0.0  0.0  0.0  0.0  0.0  \n",
              "4  0.0  0.0  ...  1.0  0.0  0.0  0.0  0.0  0.0  0.0  0.0  0.0  0.0  \n",
              "\n",
              "[5 rows x 39 columns]"
            ]
          },
          "execution_count": 3,
          "metadata": {},
          "output_type": "execute_result"
        }
      ],
      "source": [
        "# import libraries only ONCE\n",
        "import pandas as pd\n",
        "from sklearn.preprocessing import OneHotEncoder, MinMaxScaler\n",
        "\n",
        "# Reading in the data and dropping duplicates\n",
        "housing_df = pd.read_csv('train.csv')\n",
        "housing_df = housing_df.drop_duplicates()\n",
        "\n",
        "# Selecting all relevant columns (includes features and labels)\n",
        "selected_columns_df = housing_df[[\"LotShape\", \"LotConfig\", \"Neighborhood\", \"OverallQual\", \"OverallCond\", \"YearRemodAdd\", \"GrLivArea\", \"MoSold\", \"SalePrice\"]]\n",
        "\n",
        "# Dropping any incomplete columns (columns with nan values)\n",
        "selected_columns_df = selected_columns_df.dropna()\n",
        "\n",
        "housing_features_df = selected_columns_df[[\"LotShape\", \"LotConfig\", \"Neighborhood\", \"OverallQual\", \"OverallCond\", \"YearRemodAdd\", \"GrLivArea\", \"MoSold\"]]\n",
        "housing_features_df.head()\n",
        "\n",
        "sales_price_df  = selected_columns_df[['SalePrice']]\n",
        "sales_price_df.head()\n",
        "\n",
        "# We have only three categorical nominal features:\n",
        "# - LotShape\n",
        "# - LotConfig\n",
        "# - Neighborhood\n",
        "\n",
        "# Transforming categorical nominal features into 1-hot encodings\n",
        "\n",
        "lotshape_list = housing_features_df[\"LotShape\"].to_list()\n",
        "lotconfig_list = housing_features_df[\"LotConfig\"].to_list()\n",
        "neighborhood_list = housing_features_df[\"Neighborhood\"].to_list()\n",
        "\n",
        "# Convert to list of lists that scikit learn 1-hot encoder expects\n",
        "lotshape_list_of_list = [[el] for el in lotshape_list]\n",
        "lotconfig_list_of_list = [[el] for el in lotconfig_list]\n",
        "neighborhood_list_of_list = [[el] for el in neighborhood_list]\n",
        "\n",
        "lotshape_encoder = OneHotEncoder()\n",
        "lotconfig_encoder = OneHotEncoder()\n",
        "neighborhood_encoder = OneHotEncoder()\n",
        "\n",
        "# Fit the data\n",
        "lotshape_transformed = lotshape_encoder.fit_transform(lotshape_list_of_list)\n",
        "lotconfig_transformed = lotconfig_encoder.fit_transform(lotconfig_list_of_list)\n",
        "neighborhood_transformed = neighborhood_encoder.fit_transform(neighborhood_list_of_list)\n",
        "\n",
        "# Create numpy matrices\n",
        "lotshape_transformed = lotshape_transformed.toarray()\n",
        "lotconfig_transformed = lotconfig_transformed.toarray()\n",
        "neighborhood_transformed = neighborhood_transformed.toarray()\n",
        "\n",
        "# Merging the 1-hot vectors back to the dataframe\n",
        "lotshape_transformed_df = pd.DataFrame(lotshape_transformed)\n",
        "lotconfig_transformed_df = pd.DataFrame(lotconfig_transformed)\n",
        "neighborhood_transformed_df = pd.DataFrame(neighborhood_transformed)\n",
        "\n",
        "# Sanity check for 1-hot vector sizes\n",
        "# - LotShape should result in a 1-hot vector of size 4\n",
        "# - LotConfig should result in a 1-hot vector of size 5\n",
        "# - Neighborhood should result in a 1-hot vector of size 25\n",
        "print(f\"LotShape 1-hot shape = {lotshape_transformed_df.shape}\")\n",
        "print(f\"LotConfig 1-hot shape = {lotconfig_transformed_df.shape}\")\n",
        "print(f\"Neighborhood 1-hot shape = {neighborhood_transformed_df.shape}\")\n",
        "\n",
        "# Concatenate back into the dataframe\n",
        "housing_features_df.reset_index(drop=True, inplace=True)\n",
        "lotshape_transformed_df.reset_index(drop=True, inplace=True)\n",
        "lotconfig_transformed_df.reset_index(drop=True, inplace=True)\n",
        "neighborhood_transformed_df.reset_index(drop=True, inplace=True)\n",
        "\n",
        "housing_features_transformed_df = pd.concat([housing_features_df, lotshape_transformed_df, lotconfig_transformed_df, neighborhood_transformed_df], axis=1)\n",
        "\n",
        "# Total columns we have  = 8 (original) + 4 + 5 + 25\n",
        "# So, this should print 1460 * 42\n",
        "print(f\"Shape of data after concatenating all 1-hot encodings = {housing_features_transformed_df.shape}\")\n",
        "\n",
        "# Now drop columns we have already transformed into 1-hot\n",
        "housing_features_transformed_df = housing_features_transformed_df.drop(columns=[\"LotShape\", \"LotConfig\", \"Neighborhood\"], axis=1)\n",
        "# Now, let's print the shape of our final data (should be 1460 * 39)\n",
        "print(f\"Shape of data after droping original categorical columns = {housing_features_transformed_df.shape}\")\n",
        "\n",
        "# Extra Credit : We are using MinMax Scaling\n",
        "# It is debatable if we should scale categorical ordinal features such as \"YearRemodAdd\" and \"MoSold\"\n",
        "# I have scaled everything for the sake of simplicity\n",
        "scaler = MinMaxScaler()\n",
        "housing_features_transformed_df[['OverallQual', 'OverallCond', 'YearRemodAdd','GrLivArea','MoSold']] = scaler.fit_transform(housing_features_transformed_df[['OverallQual', 'OverallCond', 'YearRemodAdd','GrLivArea','MoSold']])\n",
        "\n",
        "housing_features_transformed_df.head()"
      ]
    },
    {
      "cell_type": "markdown",
      "metadata": {
        "id": "veY_UeY5hyTE"
      },
      "source": [
        "Employing Linear Regression to predict the SalesPrice from the following features:\n",
        "\n",
        "*   Lotshape\n",
        "*   LotConfig\n",
        "*   Neighborhood\n",
        "*   OverallQual\n",
        "*   OverallCond\n",
        "*   YearRemodAdd\n",
        "*   GrLivArea\n",
        "*   MoSold"
      ]
    },
    {
      "cell_type": "markdown",
      "metadata": {
        "id": "kAPwQuHUjAk_"
      },
      "source": [
        "## Part 2: Data Splitting\n",
        "\n",
        "Split our dataset into train, validation and test splits of size 80%-10%-10%.\n",
        "\n"
      ]
    },
    {
      "cell_type": "code",
      "execution_count": 4,
      "metadata": {
        "id": "zHGQ1oIajMat"
      },
      "outputs": [],
      "source": [
        "from sklearn.model_selection import train_test_split\n",
        "\n",
        "# split the data into 80% train and 20% temporary\n",
        "x_train, x_temp, y_train, y_temp = train_test_split(housing_features_transformed_df, sales_price_df, test_size=0.20, random_state=42)"
      ]
    },
    {
      "cell_type": "markdown",
      "metadata": {
        "id": "LCEX75wtkjcU"
      },
      "source": [
        "Here I split my data into an 80% train split and a 20% temporary split, which I will then split equally into validation and test splits to achieve two 10% splits of the entire dataset (50% of 20% of the data achieves two 10% splits)."
      ]
    },
    {
      "cell_type": "code",
      "execution_count": 5,
      "metadata": {
        "id": "6Nz1oPmjlGW8"
      },
      "outputs": [],
      "source": [
        "# split the temporary dataset into 50% train and 50% test to achieve 10% splits of the overall dataset\n",
        "x_validation, x_test, y_validation, y_test = train_test_split(x_temp, y_temp, test_size=0.50, random_state=42)"
      ]
    },
    {
      "cell_type": "markdown",
      "metadata": {
        "id": "qr5e8lqglz3M"
      },
      "source": [
        "## Part 3: Training a Linear Regression Model\n",
        "Train our linear regression model using scikit-learn's LinearRegression module."
      ]
    },
    {
      "cell_type": "code",
      "execution_count": 6,
      "metadata": {
        "colab": {
          "base_uri": "https://localhost:8080/",
          "height": 74
        },
        "id": "uYTRgTcfmZ0Q",
        "outputId": "756bd841-29cd-44a8-fe09-3cc01589ec5d"
      },
      "outputs": [
        {
          "data": {
            "text/html": [
              "<style>#sk-container-id-1 {color: black;background-color: white;}#sk-container-id-1 pre{padding: 0;}#sk-container-id-1 div.sk-toggleable {background-color: white;}#sk-container-id-1 label.sk-toggleable__label {cursor: pointer;display: block;width: 100%;margin-bottom: 0;padding: 0.3em;box-sizing: border-box;text-align: center;}#sk-container-id-1 label.sk-toggleable__label-arrow:before {content: \"▸\";float: left;margin-right: 0.25em;color: #696969;}#sk-container-id-1 label.sk-toggleable__label-arrow:hover:before {color: black;}#sk-container-id-1 div.sk-estimator:hover label.sk-toggleable__label-arrow:before {color: black;}#sk-container-id-1 div.sk-toggleable__content {max-height: 0;max-width: 0;overflow: hidden;text-align: left;background-color: #f0f8ff;}#sk-container-id-1 div.sk-toggleable__content pre {margin: 0.2em;color: black;border-radius: 0.25em;background-color: #f0f8ff;}#sk-container-id-1 input.sk-toggleable__control:checked~div.sk-toggleable__content {max-height: 200px;max-width: 100%;overflow: auto;}#sk-container-id-1 input.sk-toggleable__control:checked~label.sk-toggleable__label-arrow:before {content: \"▾\";}#sk-container-id-1 div.sk-estimator input.sk-toggleable__control:checked~label.sk-toggleable__label {background-color: #d4ebff;}#sk-container-id-1 div.sk-label input.sk-toggleable__control:checked~label.sk-toggleable__label {background-color: #d4ebff;}#sk-container-id-1 input.sk-hidden--visually {border: 0;clip: rect(1px 1px 1px 1px);clip: rect(1px, 1px, 1px, 1px);height: 1px;margin: -1px;overflow: hidden;padding: 0;position: absolute;width: 1px;}#sk-container-id-1 div.sk-estimator {font-family: monospace;background-color: #f0f8ff;border: 1px dotted black;border-radius: 0.25em;box-sizing: border-box;margin-bottom: 0.5em;}#sk-container-id-1 div.sk-estimator:hover {background-color: #d4ebff;}#sk-container-id-1 div.sk-parallel-item::after {content: \"\";width: 100%;border-bottom: 1px solid gray;flex-grow: 1;}#sk-container-id-1 div.sk-label:hover label.sk-toggleable__label {background-color: #d4ebff;}#sk-container-id-1 div.sk-serial::before {content: \"\";position: absolute;border-left: 1px solid gray;box-sizing: border-box;top: 0;bottom: 0;left: 50%;z-index: 0;}#sk-container-id-1 div.sk-serial {display: flex;flex-direction: column;align-items: center;background-color: white;padding-right: 0.2em;padding-left: 0.2em;position: relative;}#sk-container-id-1 div.sk-item {position: relative;z-index: 1;}#sk-container-id-1 div.sk-parallel {display: flex;align-items: stretch;justify-content: center;background-color: white;position: relative;}#sk-container-id-1 div.sk-item::before, #sk-container-id-1 div.sk-parallel-item::before {content: \"\";position: absolute;border-left: 1px solid gray;box-sizing: border-box;top: 0;bottom: 0;left: 50%;z-index: -1;}#sk-container-id-1 div.sk-parallel-item {display: flex;flex-direction: column;z-index: 1;position: relative;background-color: white;}#sk-container-id-1 div.sk-parallel-item:first-child::after {align-self: flex-end;width: 50%;}#sk-container-id-1 div.sk-parallel-item:last-child::after {align-self: flex-start;width: 50%;}#sk-container-id-1 div.sk-parallel-item:only-child::after {width: 0;}#sk-container-id-1 div.sk-dashed-wrapped {border: 1px dashed gray;margin: 0 0.4em 0.5em 0.4em;box-sizing: border-box;padding-bottom: 0.4em;background-color: white;}#sk-container-id-1 div.sk-label label {font-family: monospace;font-weight: bold;display: inline-block;line-height: 1.2em;}#sk-container-id-1 div.sk-label-container {text-align: center;}#sk-container-id-1 div.sk-container {/* jupyter's `normalize.less` sets `[hidden] { display: none; }` but bootstrap.min.css set `[hidden] { display: none !important; }` so we also need the `!important` here to be able to override the default hidden behavior on the sphinx rendered scikit-learn.org. See: https://github.com/scikit-learn/scikit-learn/issues/21755 */display: inline-block !important;position: relative;}#sk-container-id-1 div.sk-text-repr-fallback {display: none;}</style><div id=\"sk-container-id-1\" class=\"sk-top-container\"><div class=\"sk-text-repr-fallback\"><pre>LinearRegression()</pre><b>In a Jupyter environment, please rerun this cell to show the HTML representation or trust the notebook. <br />On GitHub, the HTML representation is unable to render, please try loading this page with nbviewer.org.</b></div><div class=\"sk-container\" hidden><div class=\"sk-item\"><div class=\"sk-estimator sk-toggleable\"><input class=\"sk-toggleable__control sk-hidden--visually\" id=\"sk-estimator-id-1\" type=\"checkbox\" checked><label for=\"sk-estimator-id-1\" class=\"sk-toggleable__label sk-toggleable__label-arrow\">LinearRegression</label><div class=\"sk-toggleable__content\"><pre>LinearRegression()</pre></div></div></div></div></div>"
            ],
            "text/plain": [
              "LinearRegression()"
            ]
          },
          "execution_count": 6,
          "metadata": {},
          "output_type": "execute_result"
        }
      ],
      "source": [
        "from sklearn.linear_model import LinearRegression\n",
        "\n",
        "# Convert to numpy arrays\n",
        "x_train = x_train.to_numpy()\n",
        "y_train = y_train.to_numpy()\n",
        "\n",
        "# Create and train the model\n",
        "model = LinearRegression()\n",
        "model.fit(x_train, y_train)"
      ]
    },
    {
      "cell_type": "markdown",
      "metadata": {
        "id": "d2R4oHc6ohc8"
      },
      "source": [
        "Here I convert the train splits into appropriate numpy arrays since scikit learn expects matrices as input variables, and I use the fit() function to train the linear regression model on the training data."
      ]
    },
    {
      "cell_type": "code",
      "execution_count": 7,
      "metadata": {
        "colab": {
          "base_uri": "https://localhost:8080/"
        },
        "id": "arW4Hi-jpLN4",
        "outputId": "8640e8e4-67a1-4b9e-91b2-7eb01cda5a90"
      },
      "outputs": [
        {
          "name": "stdout",
          "output_type": "stream",
          "text": [
            "Mean Squared Error on training data 850215381.869863\n",
            "Mean Absolute Error on training data 21319.62328767123\n",
            "Pearson correlation coefficient between actual and predicted values is PearsonRResult(statistic=0.9260169811133385, pvalue=8.470880099121373e-63)\n"
          ]
        }
      ],
      "source": [
        "import sklearn.metrics as metrics\n",
        "from scipy.stats import pearsonr\n",
        "\n",
        "# Convert to numpy arrays\n",
        "x_validation = x_validation.to_numpy()\n",
        "y_validation = y_validation.to_numpy()\n",
        "x_test = x_test.to_numpy()\n",
        "y_test = y_test.to_numpy()\n",
        "\n",
        "# perform prediction on validation set\n",
        "y_validation_test = model.predict(x_validation)\n",
        "\n",
        "# Obtain evaluation metrics\n",
        "mse = metrics.mean_squared_error(y_validation, y_validation_test)\n",
        "mae = metrics.mean_absolute_error(y_validation, y_validation_test)\n",
        "correlation_coefficient = pearsonr(y_validation.flatten(), y_validation_test.flatten())\n",
        "\n",
        "print (f\"Mean Squared Error on training data {mse}\")\n",
        "print (f\"Mean Absolute Error on training data {mae}\")\n",
        "print (f\"Pearson correlation coefficient between actual and predicted values is {correlation_coefficient}\")"
      ]
    },
    {
      "cell_type": "markdown",
      "metadata": {
        "id": "JHzr3m7c1nv7"
      },
      "source": [
        "After converting the validation and test splits to numpy arrays as well, I use the .predict() function to generate predictions based on the trained model. To evaluate the trained model, I use metrics from scikit learn and pearsonr from scipy to calculate the Mean Squared Error, Mean Absolute Error and Pearson correlation coefficient of the trained model."
      ]
    },
    {
      "cell_type": "markdown",
      "metadata": {
        "id": "4Chi8m382ZL5"
      },
      "source": [
        "## Part 4: Evaluation of Results\n",
        "To better evaluate the results of the trained model, I first calculate some statistics of the Sale Price."
      ]
    },
    {
      "cell_type": "code",
      "execution_count": 10,
      "metadata": {
        "colab": {
          "base_uri": "https://localhost:8080/"
        },
        "id": "iWatz89Q2lDi",
        "outputId": "d1804658-a3fd-41f8-8a28-c3b01b0eab81"
      },
      "outputs": [
        {
          "data": {
            "text/plain": [
              "count      1460.000000\n",
              "mean     180921.195890\n",
              "std       79442.502883\n",
              "min       34900.000000\n",
              "25%      129975.000000\n",
              "50%      163000.000000\n",
              "75%      214000.000000\n",
              "max      755000.000000\n",
              "Name: SalePrice, dtype: float64"
            ]
          },
          "execution_count": 10,
          "metadata": {},
          "output_type": "execute_result"
        }
      ],
      "source": [
        "# Get descriptive statistics of sale price\n",
        "sales_price_df[\"SalePrice\"].describe()"
      ]
    },
    {
      "cell_type": "markdown",
      "metadata": {
        "id": "F7goEo6h3g_A"
      },
      "source": [
        "\n",
        "\n",
        "*   The MSE measures the average squared difference between the actual and predicted values. The MSE of the model is about 850 million which indicates that the squared difference between the actual price and predicted price is quite high.\n",
        "*   The MAE measures the average absolute difference between the actual and predicted values. The MAE of the model is about 21,000 which means the models predictions are off by 21,000 which is quite high considering the mean sale price is $180,921.\n",
        "*   The Pearson correlation coefficient measures the linear correlation between the actual and predicted values and ranges from -1 to 1. This value for the trained model is 0.926 which indicates that there is a strong positive linear correlation between the predicted values and actual values. This implies that the trained model captures the general trend in the data well but has major deviations (not very accurate)\n",
        "\n",
        "Based on these results, I would not advise a realtor to use this model to help their client in purchasing a house in Boston mainly because the MSE and MAE values are too high. These large deviations in price could cause significant financial consequences to the buyer in some scenarios. Even though the model catches the general trend of the data, it may fail to accurately predict the price in individual cases which could result in detrimental financial situaions for the buyer.\n",
        "\n",
        "\n"
      ]
    },
    {
      "cell_type": "code",
      "execution_count": 37,
      "metadata": {
        "colab": {
          "base_uri": "https://localhost:8080/",
          "height": 465
        },
        "id": "qcuvajeN9Pvm",
        "outputId": "346ee99c-f90f-4f75-c792-8d12d0f82dc4"
      },
      "outputs": [
        {
          "data": {
            "image/png": "[encoded data removed]",
            "text/plain": [
              "<Figure size 640x480 with 1 Axes>"
            ]
          },
          "metadata": {},
          "output_type": "display_data"
        }
      ],
      "source": [
        "from matplotlib import pyplot as plt\n",
        "\n",
        "# Plot the weights learned by the model\n",
        "weights = model.coef_[0]\n",
        "plt.plot(range(len(weights)), weights)\n",
        "plt.xlabel(\"Feature number\")\n",
        "plt.ylabel(\"Weight learned for corresponding feature\")\n",
        "plt.show()"
      ]
    },
    {
      "cell_type": "code",
      "execution_count": 39,
      "metadata": {
        "colab": {
          "base_uri": "https://localhost:8080/"
        },
        "id": "dxgsMcJ3NImz",
        "outputId": "bf929a07-4e48-40f6-b07b-e5b0b7971436"
      },
      "outputs": [
        {
          "data": {
            "text/plain": [
              "Index(['LotShape', 'LotConfig', 'Neighborhood', 'OverallQual', 'OverallCond',\n",
              "       'YearRemodAdd', 'GrLivArea', 'MoSold'],\n",
              "      dtype='object')"
            ]
          },
          "execution_count": 39,
          "metadata": {},
          "output_type": "execute_result"
        }
      ],
      "source": [
        "# Used for column matching\n",
        "housing_features_df.columns"
      ]
    },
    {
      "cell_type": "code",
      "execution_count": 40,
      "metadata": {
        "colab": {
          "base_uri": "https://localhost:8080/"
        },
        "id": "bk0jr6ZvNSFE",
        "outputId": "9ae366e4-8fa6-4d3e-86da-043bdbc91ed0"
      },
      "outputs": [
        {
          "data": {
            "text/plain": [
              "Index([ 'OverallQual',  'OverallCond', 'YearRemodAdd',    'GrLivArea',\n",
              "             'MoSold',              0,              1,              2,\n",
              "                    3,              0,              1,              2,\n",
              "                    3,              4,              0,              1,\n",
              "                    2,              3,              4,              5,\n",
              "                    6,              7,              8,              9,\n",
              "                   10,             11,             12,             13,\n",
              "                   14,             15,             16,             17,\n",
              "                   18,             19,             20,             21,\n",
              "                   22,             23,             24],\n",
              "      dtype='object')"
            ]
          },
          "execution_count": 40,
          "metadata": {},
          "output_type": "execute_result"
        }
      ],
      "source": [
        "# Used for column matching\n",
        "housing_features_transformed_df.columns"
      ]
    },
    {
      "cell_type": "markdown",
      "metadata": {
        "id": "m8haUaGkOSEv"
      },
      "source": [
        "After interpretting the weights used in the model, it is evident that certain variables have more predictive power than others. From the graph, the variables with highest predictive power are LotConfig and Neighborhood, while the only variable with a negative influence on the model is LotShape. The other variables have a weight of 0 which means they have no predictive power in the model.\n",
        "\n",
        "These results are skeptical since I expected variables like 'OverallQual', 'OverallCond' and 'GrLivArea' to have major influence on the model since these features are often considered crucial indicators of house prices in real estate models. It is reasonable to assume that a large, higher quality, good condition lot would sell for a higher sale price. However, the model doesn't seem to catch this which is definetely a red flag.\n",
        "\n",
        "Another skeptical factor observed from the graph is the uniform weights within variables: all the subcategories of lotshape, lotconfig and neighborhood all have the same weight. It is reasonable to assume that more premium and modern lot configurations and neighborhoods will have higher sale prices than others, but the model doesn't seem to catch this.\n",
        "\n",
        "Overall, I think the weights determined by the model are questionable and not very practical. There are several limitations of relying solely on model output for decision-making and further investigation is to be done.\n"
      ]
    }
  ],
  "metadata": {
    "colab": {
      "provenance": []
    },
    "kernelspec": {
      "display_name": "Python 3",
      "name": "python3"
    },
    "language_info": {
      "name": "python"
    }
  },
  "nbformat": 4,
  "nbformat_minor": 0
}
